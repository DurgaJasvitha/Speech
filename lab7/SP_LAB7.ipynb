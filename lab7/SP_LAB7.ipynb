{
 "cells": [
  {
   "cell_type": "code",
   "execution_count": 5,
   "id": "9e48ffe7",
   "metadata": {},
   "outputs": [],
   "source": [
    "import librosa\n",
    "import librosa.display\n",
    "import IPython.display as ipd\n",
    "from IPython.display import Audio\n",
    "from itertools import cycle"
   ]
  },
  {
   "cell_type": "markdown",
   "id": "5adcf857",
   "metadata": {},
   "source": [
    "A1. Use HMM for classification of your speech signal using STFT features.\n"
   ]
  },
  {
   "cell_type": "code",
   "execution_count": 25,
   "id": "4192ad46",
   "metadata": {},
   "outputs": [],
   "source": [
    "# Function to extract STFT features from audio file\n",
    "def extract_features(audio_file, n_mfcc=13, hop_length=512):\n",
    "    # Load audio file\n",
    "    y, sr = librosa.load(audio_file)\n",
    "\n",
    "    # Extract STFT features\n",
    "    stft = np.abs(librosa.stft(y, hop_length=hop_length))\n",
    "    mfccs = librosa.feature.mfcc(y=y, sr=sr, n_mfcc=n_mfcc, hop_length=hop_length)\n",
    "\n",
    "    # Concatenate STFT and MFCC features\n",
    "    features = np.vstack((stft, mfccs))\n",
    "\n",
    "    return features.T\n",
    "\n",
    "# Function to train HMM model\n",
    "def train_hmm(features, n_components=3, n_iter=100):\n",
    "    model = hmm.GaussianHMM(n_components=n_components, covariance_type=\"diag\", n_iter=n_iter)\n",
    "    model.fit(features)\n",
    "    return model\n",
    "# Function to classify speech using trained HMM model\n",
    "def classify_speech(audio_file, model):\n",
    "    features = extract_features(audio_file)\n",
    "    log_likelihood = model.score(features)\n",
    "    return log_likelihood"
   ]
  },
  {
   "cell_type": "code",
   "execution_count": 26,
   "id": "3738ac21",
   "metadata": {},
   "outputs": [
    {
     "name": "stdout",
     "output_type": "stream",
     "text": [
      "Training HMM model...\n"
     ]
    },
    {
     "name": "stderr",
     "output_type": "stream",
     "text": [
      "C:\\Users\\jasvi\\anaconda3\\Lib\\site-packages\\sklearn\\cluster\\_kmeans.py:1382: UserWarning: KMeans is known to have a memory leak on Windows with MKL, when there are less chunks than available threads. You can avoid it by setting the environment variable OMP_NUM_THREADS=2.\n",
      "  warnings.warn(\n"
     ]
    },
    {
     "name": "stdout",
     "output_type": "stream",
     "text": [
      "HMM model trained successfully.\n",
      "Classifying test file...\n",
      "Log Likelihood for test data: -38326801.35495631\n",
      "Predicting labels for new data...\n",
      "Predicted labels for new data: [1 0 2 2 2 2 2 2 2 2 2 2 2 2 2 2 2 2 2 2 2 2 2 2 2 2 2 2 2 2 2 2 2 2 2 2 2\n",
      " 2 2 2 2 0 0 0 0 0 0 0 0 0 0 0 0 0 0 0 0 0 0 0 0 0 0 0 0 0 0 0 0 0 0 0 2 2\n",
      " 2 2 2 2 2 2 2 2 2 2 2 2 2 2 2 2 2 2 2 2 0 0 0 0 0 0 0 0 0 0 0 0 0 0 0 0 0\n",
      " 0 0 0 0 0 0 0 0 2 2 2 0 0 0 0 0 0 0 0 0 2 2 2 2 2 2 2 2 2 2 2 2 0 0 0 0 2\n",
      " 2 2 2 2 2 0 0 0 0 0 0 0 0 0 0 0 0 0 0 2 0 0 0 0 0 0 0 0 0 2 2 2 2 2 2 2 2\n",
      " 2 2 2 2 2 2 2 2 2 2 2 2 2 2 0 0 0 0 0 2 0 0 0 0 0 0 0 0 0 0 0 0 0 0 0 0 0\n",
      " 0 0 0 0 0 2 2 2 2 2 2 2 2 2 2 2 2 2 2 2 2 2 2 2 2 2 0 0 0 0 0 0 0 0 0 0 0\n",
      " 0 0 0 0 0 0 0 0 0 0 0 0 0 0 0 0 0 0 0 0 0 0 0 0 0 0 0]\n"
     ]
    }
   ],
   "source": [
    "# Example of training\n",
    "\n",
    "train_file = r\"C:\\Users\\jasvi\\OneDrive\\Desktop\\sem6\\sp\\lab2.wav\" # Path to training audio file\n",
    "print(\"Training HMM model...\")\n",
    "train_features = extract_features(train_file)\n",
    "hmm_model = train_hmm(train_features)\n",
    "print(\"HMM model trained successfully.\")\n",
    "# Example of classification\n",
    "test_file = r\"C:\\Users\\jasvi\\OneDrive\\Desktop\\sem6\\sp\\colors.wav\"  # Path to test audio file\n",
    "print(\"Classifying test file...\")\n",
    "likelihood = classify_speech(test_file, hmm_model)\n",
    "print(\"Log Likelihood for test data:\", likelihood)\n",
    "# Example of predicting labels for test data\n",
    "print(\"Predicting labels for new data...\")\n",
    "new_likelihood = classify_speech(test_file, hmm_model)\n",
    "print(\"Predicted labels for new data:\", hmm_model.predict(extract_features(test_file)))"
   ]
  },
  {
   "cell_type": "code",
   "execution_count": null,
   "id": "39b58d68",
   "metadata": {},
   "outputs": [],
   "source": []
  }
 ],
 "metadata": {
  "kernelspec": {
   "display_name": "Python 3 (ipykernel)",
   "language": "python",
   "name": "python3"
  },
  "language_info": {
   "codemirror_mode": {
    "name": "ipython",
    "version": 3
   },
   "file_extension": ".py",
   "mimetype": "text/x-python",
   "name": "python",
   "nbconvert_exporter": "python",
   "pygments_lexer": "ipython3",
   "version": "3.11.3"
  }
 },
 "nbformat": 4,
 "nbformat_minor": 5
}
